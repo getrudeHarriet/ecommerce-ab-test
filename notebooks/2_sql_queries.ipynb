{
 "cells": [
  {
   "cell_type": "code",
   "execution_count": 6,
   "id": "bc34e472",
   "metadata": {},
   "outputs": [],
   "source": [
    "%reload_ext sql"
   ]
  },
  {
   "cell_type": "code",
   "execution_count": 7,
   "id": "c15a035e",
   "metadata": {},
   "outputs": [],
   "source": [
    "%sql sqlite:///ecommerce.db"
   ]
  },
  {
   "cell_type": "code",
   "execution_count": 8,
   "id": "ab0fc710",
   "metadata": {},
   "outputs": [
    {
     "data": {
      "text/plain": [
       "5000"
      ]
     },
     "execution_count": 8,
     "metadata": {},
     "output_type": "execute_result"
    }
   ],
   "source": [
    "import pandas as pd\n",
    "\n",
    "#Load the dataset\n",
    "df = pd.read_csv('../data/ecommerce_data.csv')\n",
    "\n",
    "#Use qlalchemy to push to SQL\n",
    "from sqlalchemy import create_engine\n",
    "engine = create_engine('sqlite:///ecommerce.db') #Same db as above\n",
    "\n",
    "#Send the dataframe to SQL as table\n",
    "df.to_sql('ecommerce_data', engine, index=False, if_exists='replace')"
   ]
  },
  {
   "cell_type": "markdown",
   "id": "aed5b741",
   "metadata": {},
   "source": [
    "# Query1: Conversion Rate by Group(Control vs Treatment)\n",
    "This tells us which group(control or treatment) had a higher percentage of users who made purchase."
   ]
  },
  {
   "cell_type": "code",
   "execution_count": 12,
   "id": "6ee4c4c5",
   "metadata": {
    "vscode": {
     "languageId": "sql"
    }
   },
   "outputs": [
    {
     "name": "stdout",
     "output_type": "stream",
     "text": [
      " * sqlite:///ecommerce.db\n",
      "Done.\n"
     ]
    },
    {
     "data": {
      "text/html": [
       "<table>\n",
       "    <thead>\n",
       "        <tr>\n",
       "            <th>group</th>\n",
       "            <th>total_users</th>\n",
       "            <th>total_purchases</th>\n",
       "            <th>conversion_rate_percent</th>\n",
       "        </tr>\n",
       "    </thead>\n",
       "    <tbody>\n",
       "        <tr>\n",
       "            <td>control</td>\n",
       "            <td>2504</td>\n",
       "            <td>306</td>\n",
       "            <td>12.22</td>\n",
       "        </tr>\n",
       "        <tr>\n",
       "            <td>treatment</td>\n",
       "            <td>2496</td>\n",
       "            <td>345</td>\n",
       "            <td>13.82</td>\n",
       "        </tr>\n",
       "    </tbody>\n",
       "</table>"
      ],
      "text/plain": [
       "[('control', 2504, 306, 12.22), ('treatment', 2496, 345, 13.82)]"
      ]
     },
     "execution_count": 12,
     "metadata": {},
     "output_type": "execute_result"
    }
   ],
   "source": [
    "%%sql\n",
    "SELECT\n",
    "    [group],\n",
    "    COUNT(*) AS total_users,\n",
    "    SUM(purchase) AS total_purchases,\n",
    "    ROUND(AVG(purchase)*100, 2) AS conversion_rate_percent\n",
    "FROM ecommerce_data\n",
    "GROUP BY [group];"
   ]
  },
  {
   "cell_type": "markdown",
   "id": "d1cc81e3",
   "metadata": {},
   "source": [
    "# Interpretation:\n",
    "Based on the above results, Treatment group has a higher conversion rate compared to control group.This suggests that the new feature presented to the treatment group is more effective in driving conversions. However this is a descriptive insight - further statistical testing is required to confirm if the difference is significant or could be due to chance."
   ]
  },
  {
   "cell_type": "markdown",
   "id": "6accf35a",
   "metadata": {},
   "source": [
    "# Query2: Average Revenue by Group\n",
    "This query tells us whether the new feature(treatment group) led to higher earnings per user."
   ]
  },
  {
   "cell_type": "code",
   "execution_count": 13,
   "id": "e3b99416",
   "metadata": {
    "vscode": {
     "languageId": "sql"
    }
   },
   "outputs": [
    {
     "name": "stdout",
     "output_type": "stream",
     "text": [
      " * sqlite:///ecommerce.db\n",
      "Done.\n"
     ]
    },
    {
     "data": {
      "text/html": [
       "<table>\n",
       "    <thead>\n",
       "        <tr>\n",
       "            <th>group</th>\n",
       "            <th>avg_revenue</th>\n",
       "            <th>total_revenue</th>\n",
       "        </tr>\n",
       "    </thead>\n",
       "    <tbody>\n",
       "        <tr>\n",
       "            <td>control</td>\n",
       "            <td>6.12</td>\n",
       "            <td>15326.07</td>\n",
       "        </tr>\n",
       "        <tr>\n",
       "            <td>treatment</td>\n",
       "            <td>6.87</td>\n",
       "            <td>17139.1</td>\n",
       "        </tr>\n",
       "    </tbody>\n",
       "</table>"
      ],
      "text/plain": [
       "[('control', 6.12, 15326.07), ('treatment', 6.87, 17139.1)]"
      ]
     },
     "execution_count": 13,
     "metadata": {},
     "output_type": "execute_result"
    }
   ],
   "source": [
    "%%sql\n",
    "SELECT\n",
    "    [group],\n",
    "    ROUND(AVG(revenue), 2) AS avg_revenue,\n",
    "    SUM(revenue) AS total_revenue\n",
    "FROM ecommerce_data\n",
    "GROUP BY [group];"
   ]
  },
  {
   "cell_type": "markdown",
   "id": "aab08fb5",
   "metadata": {},
   "source": [
    "# Interpretation:\n",
    "The treatment group shows a higher average revenue per user and greater total revenue. This implies the new feature may be more effective not just at converting users but also at increasing their spending. These business impact makes the treatment promising, but there is need to validate the results with statistical tests."
   ]
  },
  {
   "cell_type": "markdown",
   "id": "da349a2b",
   "metadata": {},
   "source": [
    "# Query3: Average Session Time by Device Type\n",
    "The above query tella us if users on mobile or desktop spend more time on the site."
   ]
  },
  {
   "cell_type": "code",
   "execution_count": 15,
   "id": "d0031609",
   "metadata": {
    "vscode": {
     "languageId": "sql"
    }
   },
   "outputs": [
    {
     "name": "stdout",
     "output_type": "stream",
     "text": [
      " * sqlite:///ecommerce.db\n",
      "Done.\n"
     ]
    },
    {
     "data": {
      "text/html": [
       "<table>\n",
       "    <thead>\n",
       "        <tr>\n",
       "            <th>device_type</th>\n",
       "            <th>users</th>\n",
       "            <th>avg_session_seconds</th>\n",
       "        </tr>\n",
       "    </thead>\n",
       "    <tbody>\n",
       "        <tr>\n",
       "            <td>desktop</td>\n",
       "            <td>2079</td>\n",
       "            <td>185.31</td>\n",
       "        </tr>\n",
       "        <tr>\n",
       "            <td>mobile</td>\n",
       "            <td>2921</td>\n",
       "            <td>181.03</td>\n",
       "        </tr>\n",
       "    </tbody>\n",
       "</table>"
      ],
      "text/plain": [
       "[('desktop', 2079, 185.31), ('mobile', 2921, 181.03)]"
      ]
     },
     "execution_count": 15,
     "metadata": {},
     "output_type": "execute_result"
    }
   ],
   "source": [
    "%%sql\n",
    "SELECT\n",
    "    device_type,\n",
    "    COUNT(*) AS users,\n",
    "    ROUND(AVG(session_duration), 2)\n",
    "AS avg_session_seconds\n",
    "FROM ecommerce_data\n",
    "GROUP BY device_type;"
   ]
  },
  {
   "cell_type": "markdown",
   "id": "0c6d9040",
   "metadata": {},
   "source": [
    "# Interpretation:\n",
    "Desktop users show longer average sessions which may suggest they are more engaged or they have a better user experience. This insight could guide design decisions or device specific optimization. If the opposite was to be true then it could have suggested that the mobile experience is effective and user base might be more mobile centric."
   ]
  },
  {
   "cell_type": "markdown",
   "id": "868e784c",
   "metadata": {},
   "source": []
  }
 ],
 "metadata": {
  "kernelspec": {
   "display_name": "Python 3",
   "language": "python",
   "name": "python3"
  },
  "language_info": {
   "codemirror_mode": {
    "name": "ipython",
    "version": 3
   },
   "file_extension": ".py",
   "mimetype": "text/x-python",
   "name": "python",
   "nbconvert_exporter": "python",
   "pygments_lexer": "ipython3",
   "version": "3.13.5"
  }
 },
 "nbformat": 4,
 "nbformat_minor": 5
}

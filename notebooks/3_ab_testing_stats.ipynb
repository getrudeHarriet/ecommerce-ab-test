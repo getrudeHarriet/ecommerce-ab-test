{
 "cells": [
  {
   "cell_type": "code",
   "execution_count": 3,
   "id": "ba49005c",
   "metadata": {},
   "outputs": [
    {
     "data": {
      "text/html": [
       "<div>\n",
       "<style scoped>\n",
       "    .dataframe tbody tr th:only-of-type {\n",
       "        vertical-align: middle;\n",
       "    }\n",
       "\n",
       "    .dataframe tbody tr th {\n",
       "        vertical-align: top;\n",
       "    }\n",
       "\n",
       "    .dataframe thead th {\n",
       "        text-align: right;\n",
       "    }\n",
       "</style>\n",
       "<table border=\"1\" class=\"dataframe\">\n",
       "  <thead>\n",
       "    <tr style=\"text-align: right;\">\n",
       "      <th></th>\n",
       "      <th>user_id</th>\n",
       "      <th>group</th>\n",
       "      <th>purchase</th>\n",
       "      <th>revenue</th>\n",
       "      <th>session_duration</th>\n",
       "      <th>device_type</th>\n",
       "    </tr>\n",
       "  </thead>\n",
       "  <tbody>\n",
       "    <tr>\n",
       "      <th>0</th>\n",
       "      <td>1</td>\n",
       "      <td>control</td>\n",
       "      <td>0</td>\n",
       "      <td>0.00</td>\n",
       "      <td>209</td>\n",
       "      <td>mobile</td>\n",
       "    </tr>\n",
       "    <tr>\n",
       "      <th>1</th>\n",
       "      <td>2</td>\n",
       "      <td>treatment</td>\n",
       "      <td>0</td>\n",
       "      <td>0.00</td>\n",
       "      <td>890</td>\n",
       "      <td>desktop</td>\n",
       "    </tr>\n",
       "    <tr>\n",
       "      <th>2</th>\n",
       "      <td>3</td>\n",
       "      <td>control</td>\n",
       "      <td>0</td>\n",
       "      <td>0.00</td>\n",
       "      <td>90</td>\n",
       "      <td>mobile</td>\n",
       "    </tr>\n",
       "    <tr>\n",
       "      <th>3</th>\n",
       "      <td>4</td>\n",
       "      <td>control</td>\n",
       "      <td>1</td>\n",
       "      <td>51.23</td>\n",
       "      <td>176</td>\n",
       "      <td>desktop</td>\n",
       "    </tr>\n",
       "    <tr>\n",
       "      <th>4</th>\n",
       "      <td>5</td>\n",
       "      <td>control</td>\n",
       "      <td>0</td>\n",
       "      <td>0.00</td>\n",
       "      <td>593</td>\n",
       "      <td>mobile</td>\n",
       "    </tr>\n",
       "  </tbody>\n",
       "</table>\n",
       "</div>"
      ],
      "text/plain": [
       "   user_id      group  purchase  revenue  session_duration device_type\n",
       "0        1    control         0     0.00               209      mobile\n",
       "1        2  treatment         0     0.00               890     desktop\n",
       "2        3    control         0     0.00                90      mobile\n",
       "3        4    control         1    51.23               176     desktop\n",
       "4        5    control         0     0.00               593      mobile"
      ]
     },
     "execution_count": 3,
     "metadata": {},
     "output_type": "execute_result"
    }
   ],
   "source": [
    "import pandas as pd\n",
    "from scipy import stats\n",
    "import numpy as np\n",
    "\n",
    "#Load the dataset\n",
    "df = pd.read_csv('../data/ecommerce_data.csv')\n",
    "\n",
    "#Preview data\n",
    "df.head()\n"
   ]
  },
  {
   "cell_type": "markdown",
   "id": "f38048b3",
   "metadata": {},
   "source": [
    "# Chi-Square Test for Conversion Rate(Categorical)\n",
    "The reason for this test is to find out whether the conversion rate is significantly different between control and treatment.\n",
    "We use chi-square test of independence to see if group assignment is associated with conversion outcome."
   ]
  },
  {
   "cell_type": "code",
   "execution_count": 4,
   "id": "b2e79c99",
   "metadata": {},
   "outputs": [
    {
     "name": "stdout",
     "output_type": "stream",
     "text": [
      "Chi-Square Statistic: 2.692\n",
      "p-value: 0.1009\n"
     ]
    }
   ],
   "source": [
    "#Create a contingency table\n",
    "conversion_table = pd.crosstab(df['group'], df['purchase'])\n",
    "\n",
    "#Run Chi-square test\n",
    "chi2, p, dof, expected = stats.chi2_contingency(conversion_table)\n",
    "\n",
    "#Show result\n",
    "print(\"Chi-Square Statistic:\", round(chi2, 3))\n",
    "print(\"p-value:\", round(p, 4))"
   ]
  },
  {
   "cell_type": "markdown",
   "id": "eb089e2d",
   "metadata": {},
   "source": [
    "# Interpretation\n",
    "The p-value tells us the probability that the observed difference in conversion rates happened by chance.\n",
    "If p-value < 0.05 the difference is statistically significant and if p-value > 0.05 the difference is not statistically significant.\n",
    "\n"
   ]
  },
  {
   "cell_type": "markdown",
   "id": "2adf89ba",
   "metadata": {},
   "source": [
    "# T-Test for Revenue (Numerical)\n",
    "The reason for the test is to find out whether the average revenue per user is significantly different Tbetween control and treatment.\n",
    "Independent t-test is used because revenue is continuous and the groups are independent.\n"
   ]
  },
  {
   "cell_type": "code",
   "execution_count": 6,
   "id": "3bf4d597",
   "metadata": {},
   "outputs": [
    {
     "name": "stdout",
     "output_type": "stream",
     "text": [
      "T-Statistic: 1.492\n",
      "p-value: 0.1357\n"
     ]
    }
   ],
   "source": [
    "#Group revenues\n",
    "control_revenue = df[df['group'] == 'control']['revenue']\n",
    "treatment_revenue = df[df['group'] == 'treatment']['revenue']\n",
    "\n",
    "#Perfom independent t-test\n",
    "t_stat, p_value = stats.ttest_ind(treatment_revenue, control_revenue)\n",
    "\n",
    "#Show results\n",
    "print(\"T-Statistic:\", round(t_stat, 3))\n",
    "print(\"p-value:\", round(p_value, 4))"
   ]
  },
  {
   "cell_type": "markdown",
   "id": "4f018c5e",
   "metadata": {},
   "source": [
    "T-test checks whether the treatment generated signifivantly higher average revenue than control.Because the p-value > 0.05 this means the revenue difference could be due to a random variation. This helps us assess the financial effectiveness of the new page."
   ]
  },
  {
   "cell_type": "markdown",
   "id": "9e5211f2",
   "metadata": {},
   "source": [
    "# Confidence Interval for Conversion Rate"
   ]
  },
  {
   "cell_type": "code",
   "execution_count": 8,
   "id": "99d6f38c",
   "metadata": {},
   "outputs": [
    {
     "name": "stdout",
     "output_type": "stream",
     "text": [
      "Control group 95% CI: (np.float64(0.1094), np.float64(0.135))\n",
      "Treatment group 95% CI: (np.float64(0.1247), np.float64(0.1518))\n"
     ]
    }
   ],
   "source": [
    "def propotion_confint(successes, n, confidence=0.95):\n",
    "    p_hat = successes / n\n",
    "    z = stats.norm.ppf(1 - (1 - confidence)/2)\n",
    "    margin = z * np.sqrt((p_hat * (1 - p_hat)) / n)\n",
    "    return round(p_hat - margin, 4), round(p_hat + margin, 4)\n",
    "\n",
    "#Control group\n",
    "control = df[df['group'] == 'control']\n",
    "control_conv = control['purchase'].sum()\n",
    "control_n = control.shape[0]\n",
    "\n",
    "#Treatment group\n",
    "treatment = df[df['group'] == 'treatment']\n",
    "treatment_conv = treatment['purchase'].sum()\n",
    "treatment_n = treatment.shape[0]\n",
    "\n",
    "#Compute CIs\n",
    "control_ci = propotion_confint(control_conv, control_n)\n",
    "treatment_ci = propotion_confint(treatment_conv, treatment_n)\n",
    "\n",
    "print(\"Control group 95% CI:\", control_ci)\n",
    "print(\"Treatment group 95% CI:\", treatment_ci)"
   ]
  },
  {
   "cell_type": "markdown",
   "id": "0705660f",
   "metadata": {},
   "source": [
    "# Interpretation\n",
    "The confidence interval tells us the likely range of the true conversion rate for each group. If the intervals do not overlap it is a strong sign that the groups are different but if the intervals overlap the difference may not be statistically meaningful.\n",
    "This helps visualize the uncertainity around our estimates."
   ]
  }
 ],
 "metadata": {
  "kernelspec": {
   "display_name": "Python 3",
   "language": "python",
   "name": "python3"
  },
  "language_info": {
   "codemirror_mode": {
    "name": "ipython",
    "version": 3
   },
   "file_extension": ".py",
   "mimetype": "text/x-python",
   "name": "python",
   "nbconvert_exporter": "python",
   "pygments_lexer": "ipython3",
   "version": "3.13.5"
  }
 },
 "nbformat": 4,
 "nbformat_minor": 5
}

{
 "cells": [
  {
   "cell_type": "code",
   "execution_count": 3,
   "id": "ba49005c",
   "metadata": {},
   "outputs": [
    {
     "data": {
      "text/html": [
       "<div>\n",
       "<style scoped>\n",
       "    .dataframe tbody tr th:only-of-type {\n",
       "        vertical-align: middle;\n",
       "    }\n",
       "\n",
       "    .dataframe tbody tr th {\n",
       "        vertical-align: top;\n",
       "    }\n",
       "\n",
       "    .dataframe thead th {\n",
       "        text-align: right;\n",
       "    }\n",
       "</style>\n",
       "<table border=\"1\" class=\"dataframe\">\n",
       "  <thead>\n",
       "    <tr style=\"text-align: right;\">\n",
       "      <th></th>\n",
       "      <th>user_id</th>\n",
       "      <th>group</th>\n",
       "      <th>purchase</th>\n",
       "      <th>revenue</th>\n",
       "      <th>session_duration</th>\n",
       "      <th>device_type</th>\n",
       "    </tr>\n",
       "  </thead>\n",
       "  <tbody>\n",
       "    <tr>\n",
       "      <th>0</th>\n",
       "      <td>1</td>\n",
       "      <td>control</td>\n",
       "      <td>0</td>\n",
       "      <td>0.00</td>\n",
       "      <td>209</td>\n",
       "      <td>mobile</td>\n",
       "    </tr>\n",
       "    <tr>\n",
       "      <th>1</th>\n",
       "      <td>2</td>\n",
       "      <td>treatment</td>\n",
       "      <td>0</td>\n",
       "      <td>0.00</td>\n",
       "      <td>890</td>\n",
       "      <td>desktop</td>\n",
       "    </tr>\n",
       "    <tr>\n",
       "      <th>2</th>\n",
       "      <td>3</td>\n",
       "      <td>control</td>\n",
       "      <td>0</td>\n",
       "      <td>0.00</td>\n",
       "      <td>90</td>\n",
       "      <td>mobile</td>\n",
       "    </tr>\n",
       "    <tr>\n",
       "      <th>3</th>\n",
       "      <td>4</td>\n",
       "      <td>control</td>\n",
       "      <td>1</td>\n",
       "      <td>51.23</td>\n",
       "      <td>176</td>\n",
       "      <td>desktop</td>\n",
       "    </tr>\n",
       "    <tr>\n",
       "      <th>4</th>\n",
       "      <td>5</td>\n",
       "      <td>control</td>\n",
       "      <td>0</td>\n",
       "      <td>0.00</td>\n",
       "      <td>593</td>\n",
       "      <td>mobile</td>\n",
       "    </tr>\n",
       "  </tbody>\n",
       "</table>\n",
       "</div>"
      ],
      "text/plain": [
       "   user_id      group  purchase  revenue  session_duration device_type\n",
       "0        1    control         0     0.00               209      mobile\n",
       "1        2  treatment         0     0.00               890     desktop\n",
       "2        3    control         0     0.00                90      mobile\n",
       "3        4    control         1    51.23               176     desktop\n",
       "4        5    control         0     0.00               593      mobile"
      ]
     },
     "execution_count": 3,
     "metadata": {},
     "output_type": "execute_result"
    }
   ],
   "source": [
    "import pandas as pd\n",
    "from scipy import stats\n",
    "import numpy as np\n",
    "\n",
    "#Load the dataset\n",
    "df = pd.read_csv('../data/ecommerce_data.csv')\n",
    "\n",
    "#Preview data\n",
    "df.head()\n"
   ]
  },
  {
   "cell_type": "markdown",
   "id": "f38048b3",
   "metadata": {},
   "source": [
    "# Chi-Square Test for Conversion Rate(Categorical)\n",
    "The reason for this test is to find out whether the conversion rate is significantly different between control and treatment.\n",
    "We use chi-square test of independence to see if group assignment is associated with conversion outcome."
   ]
  },
  {
   "cell_type": "code",
   "execution_count": 4,
   "id": "b2e79c99",
   "metadata": {},
   "outputs": [
    {
     "name": "stdout",
     "output_type": "stream",
     "text": [
      "Chi-Square Statistic: 2.692\n",
      "p-value: 0.1009\n"
     ]
    }
   ],
   "source": [
    "#Create a contingency table\n",
    "conversion_table = pd.crosstab(df['group'], df['purchase'])\n",
    "\n",
    "#Run Chi-square test\n",
    "chi2, p, dof, expected = stats.chi2_contingency(conversion_table)\n",
    "\n",
    "#Show result\n",
    "print(\"Chi-Square Statistic:\", round(chi2, 3))\n",
    "print(\"p-value:\", round(p, 4))"
   ]
  },
  {
   "cell_type": "code",
   "execution_count": null,
   "id": "2adf89ba",
   "metadata": {},
   "outputs": [],
   "source": [
    "#Group revenues"
   ]
  }
 ],
 "metadata": {
  "kernelspec": {
   "display_name": "Python 3",
   "language": "python",
   "name": "python3"
  },
  "language_info": {
   "codemirror_mode": {
    "name": "ipython",
    "version": 3
   },
   "file_extension": ".py",
   "mimetype": "text/x-python",
   "name": "python",
   "nbconvert_exporter": "python",
   "pygments_lexer": "ipython3",
   "version": "3.13.5"
  }
 },
 "nbformat": 4,
 "nbformat_minor": 5
}

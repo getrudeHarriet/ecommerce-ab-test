{
 "cells": [
  {
   "cell_type": "markdown",
   "id": "939dbf44",
   "metadata": {},
   "source": []
  },
  {
   "cell_type": "code",
   "execution_count": 7,
   "id": "90d81083",
   "metadata": {},
   "outputs": [
    {
     "data": {
      "text/html": [
       "<div>\n",
       "<style scoped>\n",
       "    .dataframe tbody tr th:only-of-type {\n",
       "        vertical-align: middle;\n",
       "    }\n",
       "\n",
       "    .dataframe tbody tr th {\n",
       "        vertical-align: top;\n",
       "    }\n",
       "\n",
       "    .dataframe thead th {\n",
       "        text-align: right;\n",
       "    }\n",
       "</style>\n",
       "<table border=\"1\" class=\"dataframe\">\n",
       "  <thead>\n",
       "    <tr style=\"text-align: right;\">\n",
       "      <th></th>\n",
       "      <th>user_id</th>\n",
       "      <th>group</th>\n",
       "      <th>purchase</th>\n",
       "      <th>revenue</th>\n",
       "      <th>session_duration</th>\n",
       "      <th>device_type</th>\n",
       "    </tr>\n",
       "  </thead>\n",
       "  <tbody>\n",
       "    <tr>\n",
       "      <th>0</th>\n",
       "      <td>1</td>\n",
       "      <td>control</td>\n",
       "      <td>0</td>\n",
       "      <td>0.00</td>\n",
       "      <td>209</td>\n",
       "      <td>mobile</td>\n",
       "    </tr>\n",
       "    <tr>\n",
       "      <th>1</th>\n",
       "      <td>2</td>\n",
       "      <td>treatment</td>\n",
       "      <td>0</td>\n",
       "      <td>0.00</td>\n",
       "      <td>890</td>\n",
       "      <td>desktop</td>\n",
       "    </tr>\n",
       "    <tr>\n",
       "      <th>2</th>\n",
       "      <td>3</td>\n",
       "      <td>control</td>\n",
       "      <td>0</td>\n",
       "      <td>0.00</td>\n",
       "      <td>90</td>\n",
       "      <td>mobile</td>\n",
       "    </tr>\n",
       "    <tr>\n",
       "      <th>3</th>\n",
       "      <td>4</td>\n",
       "      <td>control</td>\n",
       "      <td>1</td>\n",
       "      <td>51.23</td>\n",
       "      <td>176</td>\n",
       "      <td>desktop</td>\n",
       "    </tr>\n",
       "    <tr>\n",
       "      <th>4</th>\n",
       "      <td>5</td>\n",
       "      <td>control</td>\n",
       "      <td>0</td>\n",
       "      <td>0.00</td>\n",
       "      <td>593</td>\n",
       "      <td>mobile</td>\n",
       "    </tr>\n",
       "  </tbody>\n",
       "</table>\n",
       "</div>"
      ],
      "text/plain": [
       "   user_id      group  purchase  revenue  session_duration device_type\n",
       "0        1    control         0     0.00               209      mobile\n",
       "1        2  treatment         0     0.00               890     desktop\n",
       "2        3    control         0     0.00                90      mobile\n",
       "3        4    control         1    51.23               176     desktop\n",
       "4        5    control         0     0.00               593      mobile"
      ]
     },
     "execution_count": 7,
     "metadata": {},
     "output_type": "execute_result"
    }
   ],
   "source": [
    "\n",
    "import numpy as np # type: ignore\n",
    "import pandas as pd # type: ignore\n",
    "\n",
    "np.random.seed(42)\n",
    "\n",
    "#Simulate 5,000 users\n",
    "n = 5000\n",
    "user_ids = np.arange(1, n+1)\n",
    "\n",
    "#Random Assignment to control or treatment group\n",
    "groups = np.random.choice(['control', 'treatment'], size=n)\n",
    "\n",
    "#Simulate purchases with slightly higher rate in treatment group\n",
    "purchase_prob = np.where(groups == 'control', 0.12, 0.15)\n",
    "purchases = np.random.binomial(1, purchase_prob)\n",
    "\n",
    "#Revenue only for users who purchased in (USD)\n",
    "revenue = np.where(purchases == 1, np.round(np.random.normal(50, 15, n), 2), 0)\n",
    "\n",
    "#Session duration in seconds\n",
    "session_duration = np.random.exponential(scale=180, size=n).astype(int)\n",
    "\n",
    "#Device type\n",
    "device_type = np.random.choice(['mobile', 'desktop'], size=n, p=[0.6, 0.4])\n",
    "\n",
    "#Create DataFrame\n",
    "df = pd.DataFrame({\n",
    "    'user_id': user_ids,\n",
    "    'group': groups,\n",
    "    'purchase': purchases,\n",
    "    'revenue': revenue,\n",
    "    'session_duration': session_duration,\n",
    "    'device_type': device_type,\n",
    "    })\n",
    "\n",
    "df.head()"
   ]
  },
  {
   "cell_type": "code",
   "execution_count": 8,
   "id": "077a5c4a",
   "metadata": {},
   "outputs": [
    {
     "name": "stdout",
     "output_type": "stream",
     "text": [
      "Dataset saved to /data/ecommerce_data.csv\n"
     ]
    }
   ],
   "source": [
    "#Save the dataset csv\n",
    "df.to_csv('../data/ecommerce_data.csv', index=False)\n",
    "print(\"Dataset saved to /data/ecommerce_data.csv\")"
   ]
  },
  {
   "cell_type": "code",
   "execution_count": null,
   "id": "84d78773",
   "metadata": {},
   "outputs": [],
   "source": []
  }
 ],
 "metadata": {
  "kernelspec": {
   "display_name": "Python 3",
   "language": "python",
   "name": "python3"
  },
  "language_info": {
   "codemirror_mode": {
    "name": "ipython",
    "version": 3
   },
   "file_extension": ".py",
   "mimetype": "text/x-python",
   "name": "python",
   "nbconvert_exporter": "python",
   "pygments_lexer": "ipython3",
   "version": "3.13.5"
  }
 },
 "nbformat": 4,
 "nbformat_minor": 5
}
